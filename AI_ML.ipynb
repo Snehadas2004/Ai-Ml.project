{
  "nbformat": 4,
  "nbformat_minor": 0,
  "metadata": {
    "colab": {
      "provenance": [],
      "authorship_tag": "ABX9TyOdWrruIn9oC/BnuyPTIzKj",
      "include_colab_link": true
    },
    "kernelspec": {
      "name": "python3",
      "display_name": "Python 3"
    },
    "language_info": {
      "name": "python"
    }
  },
  "cells": [
    {
      "cell_type": "markdown",
      "metadata": {
        "id": "view-in-github",
        "colab_type": "text"
      },
      "source": [
        "<a href=\"https://colab.research.google.com/github/Snehadas2004/Ai-Ml.project/blob/main/AI_ML.ipynb\" target=\"_parent\"><img src=\"https://colab.research.google.com/assets/colab-badge.svg\" alt=\"Open In Colab\"/></a>"
      ]
    },
    {
      "cell_type": "code",
      "execution_count": null,
      "metadata": {
        "id": "zSBZIXeNetX9",
        "colab": {
          "base_uri": "https://localhost:8080/"
        },
        "outputId": "a5fafed7-24c3-4dda-ef14-628cbda3d809"
      },
      "outputs": [
        {
          "output_type": "stream",
          "name": "stdout",
          "text": [
            "First 5 rows of the dataset:\n",
            "  Student_ID  Student_Age     Sex High_School_Type Scholarship A6itional_Work  \\\n",
            "0   STUDENT1           20    Male            Other         50%            Yes   \n",
            "1   STUDENT2           20    Male            Other         50%            Yes   \n",
            "2   STUDENT3           20    Male            State         50%             No   \n",
            "3   STUDENT4           18  Female          Private         50%            Yes   \n",
            "4   STUDENT5           20    Male          Private         50%             No   \n",
            "\n",
            "  Sports_activity Transportation  Weekly_Study_Hours Attendance Reading Notes  \\\n",
            "0              No        Private                   0     Always     Yes   Yes   \n",
            "1              No        Private                   0     Always     Yes    No   \n",
            "2              No        Private                   2      Never      No    No   \n",
            "3              No            Bus                   2     Always      No   Yes   \n",
            "4              No            Bus                  12     Always     Yes    No   \n",
            "\n",
            "  Listening_in_Class Project_work  Grade  \n",
            "0                 No           No    9.0  \n",
            "1                Yes          Yes    9.0  \n",
            "2                 No          Yes    9.0  \n",
            "3                 No           No    9.0  \n",
            "4                Yes          Yes    9.0  \n",
            "\n",
            "DataFrame Info:\n",
            "<class 'pandas.core.frame.DataFrame'>\n",
            "RangeIndex: 645 entries, 0 to 644\n",
            "Data columns (total 15 columns):\n",
            " #   Column              Non-Null Count  Dtype  \n",
            "---  ------              --------------  -----  \n",
            " 0   Student_ID          645 non-null    object \n",
            " 1   Student_Age         645 non-null    int64  \n",
            " 2   Sex                 645 non-null    object \n",
            " 3   High_School_Type    645 non-null    object \n",
            " 4   Scholarship         645 non-null    object \n",
            " 5   A6itional_Work      645 non-null    object \n",
            " 6   Sports_activity     645 non-null    object \n",
            " 7   Transportation      645 non-null    object \n",
            " 8   Weekly_Study_Hours  645 non-null    int64  \n",
            " 9   Attendance          645 non-null    object \n",
            " 10  Reading             645 non-null    object \n",
            " 11  Notes               645 non-null    object \n",
            " 12  Listening_in_Class  645 non-null    object \n",
            " 13  Project_work        645 non-null    object \n",
            " 14  Grade               645 non-null    float64\n",
            "dtypes: float64(1), int64(2), object(12)\n",
            "memory usage: 75.7+ KB\n",
            "\n",
            "Summary Statistics:\n",
            "       Student_Age  Weekly_Study_Hours       Grade\n",
            "count   645.000000          645.000000  645.000000\n",
            "mean     19.486822           17.987597    8.746512\n",
            "std       1.292079           10.582118    1.166656\n",
            "min      18.000000            0.000000    5.000000\n",
            "25%      18.000000           12.000000    7.850000\n",
            "50%      20.000000           20.000000    9.250000\n",
            "75%      20.000000           28.000000    9.700000\n",
            "max      25.000000           30.000000    9.850000\n"
          ]
        }
      ],
      "source": [
        "import pandas as pd\n",
        "\n",
        "# Load the dataset (adjust encoding if necessary)\n",
        "df = pd.read_csv('student_prediction.csv', encoding='utf-8')\n",
        "\n",
        "# Display the first few rows of the DataFrame\n",
        "print(\"First 5 rows of the dataset:\")\n",
        "print(df.head())\n",
        "\n",
        "# Display info about data types and non-null counts\n",
        "print(\"\\nDataFrame Info:\")\n",
        "df.info()\n",
        "\n",
        "# Display summary statistics for numerical columns\n",
        "print(\"\\nSummary Statistics:\")\n",
        "print(df.describe())\n"
      ]
    },
    {
      "cell_type": "code",
      "source": [
        "from sklearn.preprocessing import LabelEncoder\n",
        "\n",
        "categorical_cols = ['Sex', 'High_School_Type', 'Scholarship', 'Additional_Work']\n",
        "\n",
        "for col in categorical_cols:\n",
        "    if col in df.columns:\n",
        "        le = LabelEncoder()\n",
        "        df[col] = le.fit_transform(df[col].astype(str).fillna('Missing'))\n",
        "    else:\n",
        "        print(f\"Column '{col}' not found in DataFrame.\")\n",
        "\n",
        "print(df.head())\n"
      ],
      "metadata": {
        "colab": {
          "base_uri": "https://localhost:8080/"
        },
        "id": "JS5vR5PMJsPX",
        "outputId": "4ff89608-a265-49df-98df-28d257ae5af9"
      },
      "execution_count": null,
      "outputs": [
        {
          "output_type": "stream",
          "name": "stdout",
          "text": [
            "Column 'Additional_Work' not found in DataFrame.\n",
            "  Student_ID  Student_Age  Sex  High_School_Type  Scholarship A6itional_Work  \\\n",
            "0   STUDENT1           20    1                 0            3            Yes   \n",
            "1   STUDENT2           20    1                 0            3            Yes   \n",
            "2   STUDENT3           20    1                 2            3             No   \n",
            "3   STUDENT4           18    0                 1            3            Yes   \n",
            "4   STUDENT5           20    1                 1            3             No   \n",
            "\n",
            "  Sports_activity Transportation  Weekly_Study_Hours Attendance Reading Notes  \\\n",
            "0              No        Private                   0     Always     Yes   Yes   \n",
            "1              No        Private                   0     Always     Yes    No   \n",
            "2              No        Private                   2      Never      No    No   \n",
            "3              No            Bus                   2     Always      No   Yes   \n",
            "4              No            Bus                  12     Always     Yes    No   \n",
            "\n",
            "  Listening_in_Class Project_work  Grade  \n",
            "0                 No           No    9.0  \n",
            "1                Yes          Yes    9.0  \n",
            "2                 No          Yes    9.0  \n",
            "3                 No           No    9.0  \n",
            "4                Yes          Yes    9.0  \n"
          ]
        }
      ]
    },
    {
      "cell_type": "code",
      "source": [
        "import matplotlib.pyplot as plt\n",
        "import seaborn as sns\n",
        "\n",
        "# Set Seaborn style\n",
        "sns.set(style=\"whitegrid\")\n",
        "\n",
        "# 1. Correlation heatmap\n",
        "plt.figure(figsize=(10, 8))\n",
        "sns.heatmap(df.corr(numeric_only=True), annot=True, cmap='coolwarm', fmt=\".2f\")\n",
        "plt.title(\"Correlation Heatmap\", fontsize=14)\n",
        "plt.xticks(rotation=45)\n",
        "plt.yticks(rotation=0)\n",
        "plt.tight_layout()\n",
        "plt.show()\n",
        "\n",
        "# 2. Distribution of the target variable\n",
        "# 👉 Replace this with your actual target column name\n",
        "target_col = 'Final_Result'  # Change this if your target column is different\n",
        "\n",
        "if target_col in df.columns:\n",
        "    plt.figure(figsize=(8, 6))\n",
        "    sns.histplot(df[target_col], kde=True, bins=20)\n",
        "    plt.title(f\"Distribution of Target Column: {target_col}\", fontsize=14)\n",
        "    plt.xlabel(\"Target\")\n",
        "    plt.ylabel(\"Frequency\")\n",
        "    plt.tight_layout()\n",
        "    plt.show()\n",
        "\n",
        "    # 3. Class balance (if it's a classification problem)\n",
        "    print(\"Class Distribution:\")\n",
        "    print(df[target_col].value_counts())\n",
        "else:\n",
        "    print(f\"Column '{target_col}' not found in the DataFrame.\")\n"
      ],
      "metadata": {
        "colab": {
          "base_uri": "https://localhost:8080/",
          "height": 818
        },
        "id": "yjiuCcfLNYvo",
        "outputId": "77371ce1-63cc-402d-b670-9f86bce4f8ee"
      },
      "execution_count": null,
      "outputs": [
        {
          "output_type": "display_data",
          "data": {
            "text/plain": [
              "<Figure size 1000x800 with 2 Axes>"
            ],
            "image/png": "[encoded data removed]"
          },
          "metadata": {}
        },
        {
          "output_type": "stream",
          "name": "stdout",
          "text": [
            "Column 'Final_Result' not found in the DataFrame.\n"
          ]
        }
      ]
    },
    {
      "cell_type": "code",
      "source": [
        "from sklearn.model_selection import train_test_split\n",
        "\n",
        "# 1. Drop 'Student_ID' column if present\n",
        "if 'Student_ID' in df.columns:\n",
        "    df.drop('Student_ID', axis=1, inplace=True)\n",
        "    print(\"Dropped 'Student_ID' column.\")\n",
        "\n",
        "# 2. Set up features and target\n",
        "target_col = 'Final_Result'  # Change this if your target column is different\n",
        "\n",
        "if target_col in df.columns:\n",
        "    X = df.drop(target_col, axis=1)  # Features\n",
        "    y = df[target_col]               # Target\n",
        "\n",
        "    # 3. Train-test split\n",
        "    X_train, X_test, y_train, y_test = train_test_split(\n",
        "        X, y, test_size=0.2, random_state=42\n",
        "    )\n",
        "\n",
        "    # Show the shapes of datasets\n",
        "    print(\"\\n✅ Data split successful:\")\n",
        "    print(\"Training set size:\", X_train.shape)\n",
        "    print(\"Testing set size:\", X_test.shape)\n",
        "else:\n",
        "    print(f\"❌ Target column '{target_col}' not found in the DataFrame.\")\n"
      ],
      "metadata": {
        "colab": {
          "base_uri": "https://localhost:8080/"
        },
        "id": "WoMukK6hOuHn",
        "outputId": "955ce01f-8e64-414a-d096-a9a930b53f8b"
      },
      "execution_count": null,
      "outputs": [
        {
          "output_type": "stream",
          "name": "stdout",
          "text": [
            "❌ Target column 'Final_Result' not found in the DataFrame.\n"
          ]
        }
      ]
    },
    {
      "cell_type": "code",
      "source": [
        "print(df.columns.tolist())"
      ],
      "metadata": {
        "colab": {
          "base_uri": "https://localhost:8080/"
        },
        "id": "NyrpLmQEPYmX",
        "outputId": "b09e28a8-ef63-4780-c458-bb5ada03e03e"
      },
      "execution_count": null,
      "outputs": [
        {
          "output_type": "stream",
          "name": "stdout",
          "text": [
            "['Student_Age', 'Sex', 'High_School_Type', 'Scholarship', 'A6itional_Work', 'Sports_activity', 'Transportation', 'Weekly_Study_Hours', 'Attendance', 'Reading', 'Notes', 'Listening_in_Class', 'Project_work', 'Grade']\n"
          ]
        }
      ]
    },
    {
      "cell_type": "code",
      "source": [
        "target_col = 'Final_Result'"
      ],
      "metadata": {
        "id": "x_AWWoSpPvGa"
      },
      "execution_count": null,
      "outputs": []
    },
    {
      "cell_type": "code",
      "source": [
        "print(df.columns)"
      ],
      "metadata": {
        "colab": {
          "base_uri": "https://localhost:8080/"
        },
        "id": "DxE-zLIWQmLw",
        "outputId": "cc0a5ec6-722c-425c-ce8c-ef24a0634d05"
      },
      "execution_count": null,
      "outputs": [
        {
          "output_type": "stream",
          "name": "stdout",
          "text": [
            "Index(['Student_Age', 'Sex', 'High_School_Type', 'Scholarship',\n",
            "       'A6itional_Work', 'Sports_activity', 'Transportation',\n",
            "       'Weekly_Study_Hours', 'Attendance', 'Reading', 'Notes',\n",
            "       'Listening_in_Class', 'Project_work', 'Grade'],\n",
            "      dtype='object')\n"
          ]
        }
      ]
    },
    {
      "cell_type": "code",
      "source": [
        "from sklearn.model_selection import train_test_split\n",
        "\n",
        "X = df.drop(target_col, axis=1)\n",
        "y = df[target_col]\n",
        "\n",
        "x_train, x_test, y_train, y_test = train_test_split(X, y, test_size=0.2, random_state=42)"
      ],
      "metadata": {
        "id": "4IKJNUSDrXNS"
      },
      "execution_count": null,
      "outputs": []
    },
    {
      "cell_type": "code",
      "source": [
        "target_col = 'Grade'"
      ],
      "metadata": {
        "id": "cmIxx19uRU58"
      },
      "execution_count": null,
      "outputs": []
    },
    {
      "cell_type": "code",
      "source": [
        "from sklearn.model_selection import train_test_split\n",
        "\n",
        "X = df.drop(target_col, axis=1)\n",
        "y = df[target_col]\n",
        "\n",
        "x_train, x_test, y_train, y_test = train_test_split(X, y, test_size=0.2, random_state=42)"
      ],
      "metadata": {
        "id": "JbNtPI9ttwpw"
      },
      "execution_count": null,
      "outputs": []
    },
    {
      "cell_type": "code",
      "source": [
        "from sklearn.compose import ColumnTransformer\n",
        "from sklearn.preprocessing import OneHotEncoder\n",
        "\n",
        "categorical_cols = X.select_dtypes(include='object').columns\n",
        "\n",
        "preprocessor = ColumnTransformer(\n",
        "    transformers=[\n",
        "        ('cat', OneHotEncoder(handle_unknown='ignore'), categorical_cols)\n",
        "    ],\n",
        "    remainder='passthrough'\n",
        ")"
      ],
      "metadata": {
        "id": "VOUOG-qEuWgT"
      },
      "execution_count": null,
      "outputs": []
    },
    {
      "cell_type": "code",
      "source": [
        "x_train_encoded = preprocessor.fit_transform(x_train)\n",
        "x_test_encoded = preprocessor.transform(x_test)\n",
        "\n",
        "print(\"Encoding done successfully!\")"
      ],
      "metadata": {
        "colab": {
          "base_uri": "https://localhost:8080/"
        },
        "id": "L7w5g075ujmU",
        "outputId": "af2e1412-e8c1-4cb5-81f8-422f45a964bc"
      },
      "execution_count": null,
      "outputs": [
        {
          "output_type": "stream",
          "name": "stdout",
          "text": [
            "Encoding done successfully!\n"
          ]
        }
      ]
    },
    {
      "cell_type": "code",
      "source": [
        "from sklearn.model_selection import train_test_split\n",
        "\n",
        "if target_col in df.columns:\n",
        "    X = df.drop(target_col, axis=1)  # Features\n",
        "    y = df[target_col]               # Target\n",
        "\n",
        "    # 3. Train-test split\n",
        "    X_train, X_test, y_train, y_test = train_test_split(\n",
        "        X, y, test_size=0.2, random_state=42\n",
        "    )\n",
        "\n",
        "    # Show the shapes of datasets\n",
        "    print(\"\\n✅ Data split successful:\")\n",
        "    print(\"Training set size:\", X_train.shape)\n",
        "    print(\"Testing set size:\", X_test.shape)\n",
        "else:\n",
        "    print(f\"❌ Target column '{target_col}' not found in the DataFrame.\")"
      ],
      "metadata": {
        "colab": {
          "base_uri": "https://localhost:8080/"
        },
        "id": "9stNZvFTRklZ",
        "outputId": "ac5adf5d-f93f-4e4a-c50c-b92f5ccf0852"
      },
      "execution_count": null,
      "outputs": [
        {
          "output_type": "stream",
          "name": "stdout",
          "text": [
            "\n",
            "✅ Data split successful:\n",
            "Training set size: (516, 13)\n",
            "Testing set size: (129, 13)\n"
          ]
        }
      ]
    },
    {
      "cell_type": "code",
      "source": [
        "from sklearn.ensemble import RandomForestRegressor\n",
        "\n",
        "model = RandomForestRegressor()"
      ],
      "metadata": {
        "id": "fdjFkMAbxe8d"
      },
      "execution_count": null,
      "outputs": []
    },
    {
      "cell_type": "code",
      "source": [
        "x_train_encoded = preprocessor.fit_transform(x_train)\n",
        "y_train = y_train  # This stays from train_test_split"
      ],
      "metadata": {
        "id": "vLjMJwDgxhQ-"
      },
      "execution_count": null,
      "outputs": []
    },
    {
      "cell_type": "code",
      "source": [
        "from scipy.sparse import issparse\n",
        "\n",
        "if issparse(x_train_encoded):\n",
        "    print(\"Sparse matrix detected\")\n",
        "    print((x_train_encoded.data != x_train_encoded.data).sum())  # NaN check\n",
        "else:\n",
        "    print(np.isnan(x_train_encoded).sum())"
      ],
      "metadata": {
        "colab": {
          "base_uri": "https://localhost:8080/"
        },
        "id": "GAUSexsJyOat",
        "outputId": "9626760e-cf08-4ee4-e369-80b9257f03d1"
      },
      "execution_count": null,
      "outputs": [
        {
          "output_type": "stream",
          "name": "stdout",
          "text": [
            "Sparse matrix detected\n",
            "0\n"
          ]
        }
      ]
    },
    {
      "cell_type": "code",
      "source": [
        "print(y_train.isnull().sum())"
      ],
      "metadata": {
        "colab": {
          "base_uri": "https://localhost:8080/"
        },
        "id": "1Zvhzn0XyWGe",
        "outputId": "edd09288-fc6d-4435-c1a3-0380933bd629"
      },
      "execution_count": null,
      "outputs": [
        {
          "output_type": "stream",
          "name": "stdout",
          "text": [
            "0\n"
          ]
        }
      ]
    },
    {
      "cell_type": "code",
      "source": [
        "from sklearn.preprocessing import LabelEncoder\n",
        "\n",
        "# Make a copy of training and testing sets\n",
        "X_train_encoded = X_train.copy()\n",
        "X_test_encoded = X_test.copy()\n",
        "\n",
        "# Label encode all object (categorical) columns\n",
        "label_encoders = {}\n",
        "\n",
        "for col in X_train.columns:\n",
        "    if X_train[col].dtype == \"object\":\n",
        "        le = LabelEncoder()\n",
        "        X_train_encoded[col] = le.fit_transform(X_train[col].astype(str))\n",
        "\n",
        "        # Transform test set using same encoder\n",
        "        # Handle unseen labels by mapping manually\n",
        "        X_test_encoded[col] = X_test[col].astype(str).map(lambda s: le.transform([s])[0] if s in le.classes_ else -1)\n",
        "\n",
        "        # Store the encoder\n",
        "        label_encoders[col] = le\n",
        "\n",
        "# Show a preview of encoded data\n",
        "print(\"\\n✅ Preview of Encoded Training Data:\")\n",
        "print(X_train_encoded.head())\n"
      ],
      "metadata": {
        "colab": {
          "base_uri": "https://localhost:8080/"
        },
        "id": "fxMD5Yw2R8Y-",
        "outputId": "222853d9-5b11-4903-f590-5ae09004fa9c"
      },
      "execution_count": null,
      "outputs": [
        {
          "output_type": "stream",
          "name": "stdout",
          "text": [
            "\n",
            "✅ Preview of Encoded Training Data:\n",
            "     Student_Age  Sex  High_School_Type  Scholarship  A6itional_Work  \\\n",
            "515           21    0                 0            4               1   \n",
            "29            20    1                 0            4               0   \n",
            "274           20    0                 0            3               1   \n",
            "576           19    1                 1            3               1   \n",
            "434           19    1                 0            1               1   \n",
            "\n",
            "     Sports_activity  Transportation  Weekly_Study_Hours  Attendance  Reading  \\\n",
            "515                1               0                  30           1        1   \n",
            "29                 0               1                   0           2        0   \n",
            "274                0               0                  22           3        1   \n",
            "576                0               1                  18           3        0   \n",
            "434                1               1                  30           1        1   \n",
            "\n",
            "     Notes  Listening_in_Class  Project_work  \n",
            "515      1                   2             1  \n",
            "29       0                   2             1  \n",
            "274      0                   2             1  \n",
            "576      1                   2             1  \n",
            "434      1                   2             1  \n"
          ]
        }
      ]
    },
    {
      "cell_type": "code",
      "source": [
        "import pandas as pd\n",
        "df = pd.read_csv(\"student_prediction.csv\")"
      ],
      "metadata": {
        "id": "jydEbSvipT3w"
      },
      "execution_count": null,
      "outputs": []
    },
    {
      "cell_type": "code",
      "source": [
        "from sklearn.model_selection import train_test_split\n",
        "from sklearn.preprocessing import OneHotEncoder\n",
        "from sklearn.compose import ColumnTransformer\n",
        "\n",
        "# Set your actual target column name\n",
        "target_col = 'Grade'\n",
        "\n",
        "# 1. Define features and target\n",
        "X = df.drop(target_col, axis=1)\n",
        "y = df[target_col]\n",
        "\n",
        "# 2. Train-test split\n",
        "X_train, X_test, y_train, y_test = train_test_split(\n",
        "    X, y, test_size=0.2, random_state=42\n",
        ")\n",
        "\n",
        "# 3. Identify categorical columns\n",
        "categorical_cols = X_train.select_dtypes(include=['object']).columns.tolist()\n",
        "\n",
        "# 4. Encode categorical features using OneHotEncoder\n",
        "preprocessor = ColumnTransformer(\n",
        "    transformers=[\n",
        "        ('cat', OneHotEncoder(handle_unknown='ignore'), categorical_cols)\n",
        "    ],\n",
        "    remainder='passthrough'\n",
        ")\n",
        "\n",
        "# 5. Transform the data\n",
        "X_train_encoded = preprocessor.fit_transform(X_train)\n",
        "X_test_encoded = preprocessor.transform(X_test)\n",
        "\n",
        "print(\"Encoding done successfully!\")"
      ],
      "metadata": {
        "colab": {
          "base_uri": "https://localhost:8080/"
        },
        "id": "WWHNHBInpvb-",
        "outputId": "9edd22ef-7037-48a3-b22f-6799757b5478"
      },
      "execution_count": null,
      "outputs": [
        {
          "output_type": "stream",
          "name": "stdout",
          "text": [
            "Encoding done successfully!\n"
          ]
        }
      ]
    },
    {
      "cell_type": "code",
      "source": [
        "model = RandomForestRegressor(random_state=42)\n",
        "model.fit(x_train_encoded, y_train)\n",
        "print(\"Model training completed successfully!\")"
      ],
      "metadata": {
        "colab": {
          "base_uri": "https://localhost:8080/"
        },
        "id": "xeJlTVN5y41X",
        "outputId": "6c6ce6d7-14cb-41a1-aeae-5d2ca69f34bf"
      },
      "execution_count": null,
      "outputs": [
        {
          "output_type": "stream",
          "name": "stdout",
          "text": [
            "Model training completed successfully!\n"
          ]
        }
      ]
    },
    {
      "cell_type": "code",
      "source": [
        "y_pred = model.predict(x_test_encoded)\n",
        "\n",
        "from sklearn.metrics import mean_squared_error, r2_score\n",
        "print(\"MSE:\", mean_squared_error(y_test, y_pred))\n",
        "print(\"R2 Score:\", r2_score(y_test, y_pred))"
      ],
      "metadata": {
        "colab": {
          "base_uri": "https://localhost:8080/"
        },
        "id": "I9BRaB8ny_FQ",
        "outputId": "e86caf19-ca56-4542-f411-d3e2578b1c41"
      },
      "execution_count": null,
      "outputs": [
        {
          "output_type": "stream",
          "name": "stdout",
          "text": [
            "MSE: 0.2806795697674418\n",
            "R2 Score: 0.8007272134422849\n"
          ]
        }
      ]
    },
    {
      "cell_type": "code",
      "source": [
        "import pandas as pd\n",
        "data = pd.read_csv(\"/content/student_prediction.csv\")"
      ],
      "metadata": {
        "id": "DGi3upKguqnx"
      },
      "execution_count": null,
      "outputs": []
    },
    {
      "cell_type": "code",
      "source": [
        "x = data.drop(\"Grade\", axis=1)\n",
        "y = data[\"Grade\"]"
      ],
      "metadata": {
        "id": "rM5eAfPcvGCl"
      },
      "execution_count": null,
      "outputs": []
    },
    {
      "cell_type": "code",
      "source": [
        "from sklearn.model_selection import train_test_split\n",
        "from sklearn.preprocessing import OneHotEncoder\n",
        "from sklearn.compose import ColumnTransformer\n",
        "\n",
        "# Split the data\n",
        "x = df.drop(\"Grade\", axis=1)\n",
        "y = df[\"Grade\"]\n",
        "x_train, x_test, y_train, y_test = train_test_split(x, y, test_size=0.2, random_state=42)\n",
        "\n",
        "# Categorical columns\n",
        "categorical_cols = x.select_dtypes(include=[\"object\"]).columns.tolist()\n",
        "\n",
        "# One-hot encoding\n",
        "preprocessor = ColumnTransformer(\n",
        "    transformers=[(\"cat\", OneHotEncoder(handle_unknown=\"ignore\"), categorical_cols)],\n",
        "    remainder=\"passthrough\"\n",
        ")\n",
        "\n",
        "# Transform training and testing data\n",
        "x_train_encoded = preprocessor.fit_transform(x_train)\n",
        "x_test_encoded = preprocessor.transform(x_test)"
      ],
      "metadata": {
        "id": "uMHcD8vMrykH"
      },
      "execution_count": null,
      "outputs": []
    },
    {
      "cell_type": "code",
      "source": [
        "from sklearn.tree import DecisionTreeRegressor\n",
        "\n",
        "dt_model = DecisionTreeRegressor(random_state=42)\n",
        "dt_model.fit(x_train_encoded, y_train)\n",
        "y_pred_dt = dt_model.predict(x_test_encoded)"
      ],
      "metadata": {
        "id": "HmBaYLlYsGKs"
      },
      "execution_count": null,
      "outputs": []
    },
    {
      "cell_type": "code",
      "source": [
        "from sklearn.ensemble import RandomForestRegressor\n",
        "\n",
        "rf_model = RandomForestRegressor(random_state=42)\n",
        "rf_model.fit(x_train_encoded, y_train)\n",
        "y_pred_rf = rf_model.predict(x_test_encoded)"
      ],
      "metadata": {
        "id": "Wk1d10SIsKdu"
      },
      "execution_count": null,
      "outputs": []
    },
    {
      "cell_type": "code",
      "source": [
        "from sklearn.metrics import mean_squared_error, r2_score\n",
        "\n",
        "print(\"Decision Tree:\")\n",
        "print(\"MSE:\", mean_squared_error(y_test, y_pred_dt))\n",
        "print(\"R² Score:\", r2_score(y_test, y_pred_dt))\n",
        "\n",
        "print(\"\\nRandom Forest:\")\n",
        "print(\"MSE:\", mean_squared_error(y_test, y_pred_rf))\n",
        "print(\"R² Score:\", r2_score(y_test, y_pred_rf))"
      ],
      "metadata": {
        "colab": {
          "base_uri": "https://localhost:8080/"
        },
        "id": "6ah0BDa3sOh4",
        "outputId": "70dbde5d-ed2f-4122-8d82-ebc0e4cc1592"
      },
      "execution_count": null,
      "outputs": [
        {
          "output_type": "stream",
          "name": "stdout",
          "text": [
            "Decision Tree:\n",
            "MSE: 0.7023643410852713\n",
            "R² Score: 0.5013456107874126\n",
            "\n",
            "Random Forest:\n",
            "MSE: 0.2806795697674418\n",
            "R² Score: 0.8007272134422849\n"
          ]
        }
      ]
    },
    {
      "cell_type": "code",
      "source": [
        "from sklearn.linear_model import LinearRegression\n",
        "from sklearn.metrics import mean_squared_error, r2_score\n",
        "\n",
        "# Initialize and train the Linear Regression model\n",
        "lr_model = LinearRegression()\n",
        "lr_model.fit(x_train_encoded, y_train)  # lowercase x\n",
        "y_pred_lr = lr_model.predict(x_test_encoded)\n",
        "\n",
        "# Evaluate the model\n",
        "mse_lr = mean_squared_error(y_test, y_pred_lr)\n",
        "r2_lr = r2_score(y_test, y_pred_lr)\n",
        "\n",
        "# Display the results\n",
        "print(\"Linear Regression MSE:\", round(mse_lr, 2))\n",
        "print(\"Linear Regression R2 Score:\", round(r2_lr, 4))\n"
      ],
      "metadata": {
        "colab": {
          "base_uri": "https://localhost:8080/"
        },
        "id": "Vwepl9SgyqU6",
        "outputId": "f8064e89-efd5-4aca-d9e3-f63e49531eca"
      },
      "execution_count": null,
      "outputs": [
        {
          "output_type": "stream",
          "name": "stdout",
          "text": [
            "Linear Regression MSE: 1.04\n",
            "Linear Regression R2 Score: 0.2629\n"
          ]
        }
      ]
    },
    {
      "cell_type": "code",
      "source": [
        "# Decision Tree\n",
        "from sklearn.tree import DecisionTreeRegressor\n",
        "\n",
        "dt_model = DecisionTreeRegressor()\n",
        "dt_model.fit(x_train_encoded, y_train)\n",
        "y_pred_dt = dt_model.predict(x_test_encoded)\n",
        "\n",
        "mse_dt = mean_squared_error(y_test, y_pred_dt)\n",
        "r2_dt = r2_score(y_test, y_pred_dt)\n",
        "\n",
        "print(\"Decision Tree MSE:\", mse_dt)\n",
        "print(\"Decision Tree R2 Score:\", r2_dt)"
      ],
      "metadata": {
        "colab": {
          "base_uri": "https://localhost:8080/"
        },
        "id": "G5_-9y5hyyXk",
        "outputId": "2029c8c5-84af-4a95-9c76-a3052738982c"
      },
      "execution_count": null,
      "outputs": [
        {
          "output_type": "stream",
          "name": "stdout",
          "text": [
            "Decision Tree MSE: 0.7376744186046511\n",
            "Decision Tree R2 Score: 0.47627667703250576\n"
          ]
        }
      ]
    },
    {
      "cell_type": "code",
      "source": [
        "# Random Forest\n",
        "from sklearn.ensemble import RandomForestRegressor\n",
        "\n",
        "rf_model = RandomForestRegressor()\n",
        "rf_model.fit(x_train_encoded, y_train)\n",
        "y_pred_rf = rf_model.predict(x_test_encoded)\n",
        "\n",
        "mse_rf = mean_squared_error(y_test, y_pred_rf)\n",
        "r2_rf = r2_score(y_test, y_pred_rf)\n",
        "\n",
        "print(\"Random Forest MSE:\", mse_rf)\n",
        "print(\"Random Forest R2 Score:\", r2_rf)"
      ],
      "metadata": {
        "colab": {
          "base_uri": "https://localhost:8080/"
        },
        "id": "-csCEhsrzCGI",
        "outputId": "773a6941-5902-4311-80a7-bfb14a949887"
      },
      "execution_count": null,
      "outputs": [
        {
          "output_type": "stream",
          "name": "stdout",
          "text": [
            "Random Forest MSE: 0.2779547306201549\n",
            "Random Forest R2 Score: 0.8026617549917511\n"
          ]
        }
      ]
    },
    {
      "cell_type": "code",
      "source": [
        "models = ['Linear Regression', 'Decision Tree', 'Random Forest']\n",
        "scores = [r2_lr, r2_dt, r2_rf]\n",
        "\n",
        "plt.bar(models, scores, color=['skyblue', 'orange', 'green'])\n",
        "plt.title('Model Comparison (R² Score)')\n",
        "plt.ylabel('R² Score')\n",
        "plt.ylim(0, 1)\n",
        "plt.show()"
      ],
      "metadata": {
        "colab": {
          "base_uri": "https://localhost:8080/",
          "height": 452
        },
        "id": "uhLtcH-UzRQp",
        "outputId": "e2ebbcc7-6e4d-4f1a-a712-5614921f0230"
      },
      "execution_count": null,
      "outputs": [
        {
          "output_type": "display_data",
          "data": {
            "text/plain": [
              "<Figure size 640x480 with 1 Axes>"
            ],
            "image/png": "[encoded data removed]"
          },
          "metadata": {}
        }
      ]
    }
  ]
}